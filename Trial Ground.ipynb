{
 "cells": [
  {
   "cell_type": "code",
   "execution_count": 5,
   "id": "617ba262",
   "metadata": {},
   "outputs": [
    {
     "data": {
      "text/plain": [
       "'DemoSheet'"
      ]
     },
     "execution_count": 5,
     "metadata": {},
     "output_type": "execute_result"
    }
   ],
   "source": [
    "import csv\n",
    "import pandas as pd\n",
    "\n",
    "#Reading from Excel Sheet\n",
    "sourceData = pd.ExcelFile('Source.xlsx')\n",
    "#SourceData\n",
    "for sheet_name in sourceData.sheet_names:\n",
    "    records = pd.read_excel(sourceData, sheet_name)\n",
    "sheet_name"
   ]
  },
  {
   "cell_type": "code",
   "execution_count": null,
   "id": "fe1198de",
   "metadata": {},
   "outputs": [],
   "source": []
  },
  {
   "cell_type": "code",
   "execution_count": 19,
   "id": "fac3d7a8",
   "metadata": {},
   "outputs": [
    {
     "data": {
      "text/html": [
       "<div>\n",
       "<style scoped>\n",
       "    .dataframe tbody tr th:only-of-type {\n",
       "        vertical-align: middle;\n",
       "    }\n",
       "\n",
       "    .dataframe tbody tr th {\n",
       "        vertical-align: top;\n",
       "    }\n",
       "\n",
       "    .dataframe thead th {\n",
       "        text-align: right;\n",
       "    }\n",
       "</style>\n",
       "<table border=\"1\" class=\"dataframe\">\n",
       "  <thead>\n",
       "    <tr style=\"text-align: right;\">\n",
       "      <th>Customer</th>\n",
       "      <th>Aby J</th>\n",
       "      <th>Jones B</th>\n",
       "      <th>Bipin M</th>\n",
       "      <th>Febin T</th>\n",
       "    </tr>\n",
       "  </thead>\n",
       "  <tbody>\n",
       "  </tbody>\n",
       "</table>\n",
       "</div>"
      ],
      "text/plain": [
       "Empty DataFrame\n",
       "Columns: [Aby J, Jones B, Bipin M, Febin T]\n",
       "Index: []"
      ]
     },
     "metadata": {},
     "output_type": "display_data"
    }
   ],
   "source": [
    "output_data = []\n",
    "for sheet_name in sourceData.sheet_names:\n",
    "    \n",
    "    # Read the sheet into a DataFrame\n",
    "    records = pd.read_excel(sourceData, sheet_name)\n",
    "    oneCol = records[['Customer']]\n",
    "    oneCol.set_index('Customer', inplace=True)\n",
    "    \n",
    "    df_transposed = oneCol.T\n",
    "    display(df_transposed)\n",
    "    \n",
    "    # Reset the index to make \"Customer\" a regular column\n",
    "    df_transposed.reset_index(inplace=True)\n",
    "\n",
    "    # Rename the \"index\" column to \"Customer\"\n",
    "    df_transposed.rename(columns={'index': 'Customer'}, inplace=True)\n",
    "    \n",
    "    #Appending Sheet Name before data\n",
    "    df_transposed['Customer'] = sheet_name + '-' + df_transposed['Customer']\n",
    "    \n",
    "    #Appending record to the Output dataframe\n",
    "    output_data.append(df_transposed)\n",
    "\n",
    "#print(output_data)"
   ]
  },
  {
   "cell_type": "code",
   "execution_count": null,
   "id": "781ce3f9",
   "metadata": {},
   "outputs": [],
   "source": [
    "finalOutput = pd.concat(output_data, ignore_index=True)\n",
    "\n",
    "# Save the transposed DataFrame to a new CSV file\n",
    "finalOutput.to_csv('output.csv', index=False)"
   ]
  },
  {
   "cell_type": "code",
   "execution_count": 5,
   "id": "6b5890f7",
   "metadata": {},
   "outputs": [],
   "source": [
    "import pandas as pd\n",
    "\n",
    "# Load spreadsheet\n",
    "xl = pd.ExcelFile('Source.xlsx')\n",
    "\n",
    "# Load a sheet into a DataFrame\n",
    "sheetName='DemoSheet'\n",
    "df = xl.parse(sheetName)\n",
    "\n",
    "# Specify the column you want to export\n",
    "column = df['Customer']\n",
    "\n",
    "# Convert the column to a list\n",
    "values = column.tolist()\n",
    "lineSize=5 #Number of records per line\n",
    "\n",
    "# Split the list into sublists of 10 elements each\n",
    "chunks = [values[i:i + lineSize] for i in range(0, len(values), lineSize)]\n",
    "\n",
    "# Convert each sublist to a csv string and join them with newlines\n",
    "csv_string = '\\n'.join([', '.join(map(str, chunk)) for chunk in chunks])\n",
    "\n",
    "# Convert the column to a csv string\n",
    "#csv_string = column.to_csv(line_terminator=', ', index=False, header=False)\n",
    "\n",
    "#Joining Sheet Name at first\n",
    "csv_string = sheetName +'\\\\' + csv_string\n",
    "\n",
    "# Write the string to a file\n",
    "with open('output2.csv', 'w') as f:\n",
    "    f.write(csv_string)"
   ]
  },
  {
   "cell_type": "code",
   "execution_count": null,
   "id": "1a5bffe5",
   "metadata": {},
   "outputs": [],
   "source": []
  },
  {
   "cell_type": "code",
   "execution_count": null,
   "id": "ccee829b",
   "metadata": {},
   "outputs": [],
   "source": []
  },
  {
   "cell_type": "code",
   "execution_count": null,
   "id": "db486870",
   "metadata": {},
   "outputs": [],
   "source": []
  },
  {
   "cell_type": "code",
   "execution_count": null,
   "id": "7fa152ca",
   "metadata": {},
   "outputs": [],
   "source": []
  },
  {
   "cell_type": "code",
   "execution_count": null,
   "id": "0b98c179",
   "metadata": {},
   "outputs": [],
   "source": []
  },
  {
   "cell_type": "code",
   "execution_count": null,
   "id": "80dcd5e8",
   "metadata": {},
   "outputs": [],
   "source": []
  },
  {
   "cell_type": "code",
   "execution_count": null,
   "id": "ae5c765d",
   "metadata": {},
   "outputs": [],
   "source": []
  },
  {
   "cell_type": "code",
   "execution_count": null,
   "id": "d64e68e8",
   "metadata": {},
   "outputs": [],
   "source": []
  },
  {
   "cell_type": "code",
   "execution_count": null,
   "id": "19c4d2ba",
   "metadata": {},
   "outputs": [],
   "source": []
  },
  {
   "cell_type": "code",
   "execution_count": null,
   "id": "6a8f699e",
   "metadata": {},
   "outputs": [],
   "source": [
    "# Combine all the values from all columns into a single row\n",
    "combined_row = outputCSV.values.flatten()\n",
    "\n",
    "# Create a new DataFrame with a single row and no column names\n",
    "newData = pd.DataFrame([combined_row])\n",
    "\n",
    "# Save the new DataFrame to a new CSV file\n",
    "newData.to_csv('Final.csv', header=False, index=None)"
   ]
  },
  {
   "cell_type": "code",
   "execution_count": null,
   "id": "b731ab06",
   "metadata": {},
   "outputs": [],
   "source": []
  },
  {
   "cell_type": "code",
   "execution_count": null,
   "id": "27424425",
   "metadata": {},
   "outputs": [],
   "source": []
  },
  {
   "cell_type": "code",
   "execution_count": null,
   "id": "f4000a6b",
   "metadata": {},
   "outputs": [],
   "source": []
  },
  {
   "cell_type": "code",
   "execution_count": null,
   "id": "c211b5de",
   "metadata": {},
   "outputs": [],
   "source": []
  },
  {
   "cell_type": "code",
   "execution_count": null,
   "id": "6b550124",
   "metadata": {},
   "outputs": [],
   "source": []
  },
  {
   "cell_type": "code",
   "execution_count": null,
   "id": "3e202596",
   "metadata": {},
   "outputs": [],
   "source": []
  },
  {
   "cell_type": "code",
   "execution_count": null,
   "id": "76a7ec25",
   "metadata": {},
   "outputs": [],
   "source": []
  },
  {
   "cell_type": "code",
   "execution_count": null,
   "id": "79be9fa7",
   "metadata": {},
   "outputs": [],
   "source": []
  },
  {
   "cell_type": "code",
   "execution_count": null,
   "id": "8e620731",
   "metadata": {},
   "outputs": [],
   "source": []
  },
  {
   "cell_type": "code",
   "execution_count": null,
   "id": "1fc039e8",
   "metadata": {},
   "outputs": [],
   "source": []
  },
  {
   "cell_type": "code",
   "execution_count": null,
   "id": "58352037",
   "metadata": {},
   "outputs": [],
   "source": []
  },
  {
   "cell_type": "code",
   "execution_count": null,
   "id": "4d9bcc64",
   "metadata": {},
   "outputs": [],
   "source": []
  },
  {
   "cell_type": "code",
   "execution_count": null,
   "id": "8159e420",
   "metadata": {},
   "outputs": [],
   "source": []
  },
  {
   "cell_type": "code",
   "execution_count": null,
   "id": "38128c4d",
   "metadata": {},
   "outputs": [],
   "source": []
  }
 ],
 "metadata": {
  "kernelspec": {
   "display_name": "Python 3 (ipykernel)",
   "language": "python",
   "name": "python3"
  },
  "language_info": {
   "codemirror_mode": {
    "name": "ipython",
    "version": 3
   },
   "file_extension": ".py",
   "mimetype": "text/x-python",
   "name": "python",
   "nbconvert_exporter": "python",
   "pygments_lexer": "ipython3",
   "version": "3.9.7"
  }
 },
 "nbformat": 4,
 "nbformat_minor": 5
}
